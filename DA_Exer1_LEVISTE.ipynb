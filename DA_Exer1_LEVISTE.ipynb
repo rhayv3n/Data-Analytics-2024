{
 "cells": [
  {
   "cell_type": "markdown",
   "id": "5bebbc4c",
   "metadata": {},
   "source": [
    "# DATA ANALYTICS LABORATORY | DS165L | Laboratory Exercise 1\n",
    "\n",
    "#### Leviste, Alliyah Rhayven A. | AM14 |"
   ]
  },
  {
   "cell_type": "markdown",
   "id": "c98b495b",
   "metadata": {},
   "source": [
    "#### Question 1\n",
    "\n",
    "Define a function recursivecount() which accepts the given list from user and\n",
    "must return the number of items in the list, using recursion, if the list is not\n",
    "empty. Input is user’s choice.\n",
    "\n",
    "[Hint: Make sure that you are not using len () function to count it.].\n",
    "\n",
    "If the user input is an empty list, then it must throw an error message \"the given\n",
    "list is empty\"\n",
    "\n",
    "[Hint: Use try and Exception]\n",
    "You must show answers for both cases: 1) Empty list 2) Non-empty List"
   ]
  },
  {
   "cell_type": "code",
   "execution_count": 9,
   "id": "1ed68a6d",
   "metadata": {},
   "outputs": [],
   "source": [
    "def recursivecount(lst):\n",
    "    \n",
    "    if lst == []:\n",
    "        raise Exception(\"The given list is empty\")\n",
    "    \n",
    "    if lst[1:]: \n",
    "        return 1 + recursivecount(lst[1:])\n",
    "    else: \n",
    "        return 1\n"
   ]
  },
  {
   "cell_type": "code",
   "execution_count": 18,
   "id": "953c3c2f",
   "metadata": {},
   "outputs": [
    {
     "name": "stdout",
     "output_type": "stream",
     "text": [
      "List count: 6\n"
     ]
    }
   ],
   "source": [
    "##CASE 1: Non-Empty List\n",
    "list1 = [\n",
    "    \"Alex\", \"Elliott\", \"Harvey\", \"Sam\", \"Sebastian\", \"Shane\"]\n",
    "\n",
    "try:\n",
    "    print(\"List count:\", recursivecount(list1))\n",
    "except Exception as e:\n",
    "    print(e)"
   ]
  },
  {
   "cell_type": "code",
   "execution_count": 19,
   "id": "aea0bafd",
   "metadata": {},
   "outputs": [
    {
     "name": "stdout",
     "output_type": "stream",
     "text": [
      "The given list is empty\n"
     ]
    }
   ],
   "source": [
    "##CASE 2: Empty List\n",
    "list2 = []\n",
    "try:\n",
    "    print(\"List count:\", recursivecount(list2))\n",
    "except Exception as e:\n",
    "    print(e)"
   ]
  },
  {
   "cell_type": "markdown",
   "id": "9d540fa8",
   "metadata": {},
   "source": [
    "#### Question 2:\n",
    "Create a module called similarity which should have the program for\n",
    "cosine_similarity.\n",
    "\n",
    "Make sure that you are doing hard coding to find the cosine similarity.\n",
    "Now in the python program, import that module calculate the cosine_similarity\n",
    "for the followings.\n",
    "\n",
    "input1=[4,4,5]\n",
    "input2=[4,2,3]"
   ]
  },
  {
   "cell_type": "code",
   "execution_count": null,
   "id": "b511153e",
   "metadata": {},
   "outputs": [],
   "source": []
  },
  {
   "cell_type": "markdown",
   "id": "ab0f635e",
   "metadata": {},
   "source": [
    "#### Question 3\n",
    "\n",
    "Create 4 lists, each has 6 items in it. No duplicate values/duplicate lists are\n",
    "allowed.\n",
    "\n",
    "Now create a function called \"calculation\" which must return the result of\n",
    "(product of 2 lowest / product of 2 highest)\n",
    "\n",
    "Say an example if your list is [1,2,3,4,5,6], it must return (1*2)/(5*6)=0.067.\n",
    "\n",
    "Round the final answer to 3 decimal places.\n",
    "\n",
    "Keep all the lists in a base class called \"parent\"\n",
    "\n",
    "Function should be in derived class called \"child\""
   ]
  },
  {
   "cell_type": "code",
   "execution_count": 12,
   "id": "37822f6f",
   "metadata": {},
   "outputs": [],
   "source": [
    "class Parent:\n",
    "    def __init__(self):\n",
    "        self.list1 = [21, 3, 7, 12, 17, 31]\n",
    "        self.list2 = [22, 4, 8, 13, 18, 32]\n",
    "        self.list3 = [23, 5, 9, 14, 19, 33]\n",
    "        self.list4 = [24, 6, 10, 15, 20, 34]\n"
   ]
  },
  {
   "cell_type": "code",
   "execution_count": 15,
   "id": "c0b1b4d0",
   "metadata": {},
   "outputs": [],
   "source": [
    "class Child(Parent):\n",
    "    def calculation(self, lst):\n",
    "       \n",
    "        sorted_lst = sorted(lst)\n",
    "        \n",
    "    #(product of 2 lowest / product of 2 highest)\n",
    "    \n",
    "        product_lowest = sorted_lst[0] * sorted_lst[1]\n",
    "        product_highest = sorted_lst[-1] * sorted_lst[-2]\n",
    "        \n",
    "        result = product_lowest / product_highest\n",
    "        \n",
    "        return round(result, 3)"
   ]
  },
  {
   "cell_type": "code",
   "execution_count": 16,
   "id": "8bff50dd",
   "metadata": {},
   "outputs": [
    {
     "name": "stdout",
     "output_type": "stream",
     "text": [
      "list1 result: 0.032\n",
      "list2 result: 0.045\n",
      "list3 result: 0.059\n",
      "list4 result: 0.074\n"
     ]
    }
   ],
   "source": [
    "child_instance = Child()\n",
    "\n",
    "#results\n",
    "result1 = child_instance.calculation(child_instance.list1)\n",
    "print(\"list1 result:\", result1)\n",
    "\n",
    "result2 = child_instance.calculation(child_instance.list2)\n",
    "print(\"list2 result:\", result2)\n",
    "\n",
    "result3 = child_instance.calculation(child_instance.list3)\n",
    "print(\"list3 result:\", result3)\n",
    "\n",
    "result4 = child_instance.calculation(child_instance.list4)\n",
    "print(\"list4 result:\", result4)\n"
   ]
  },
  {
   "cell_type": "markdown",
   "id": "08a4350c",
   "metadata": {},
   "source": [
    "#### Question 4\n",
    "\n",
    "Create a class called “ list-checking” to check whether the sub list is a subset of\n",
    "super list or not.\n",
    "\n",
    "Show answers for both cases 1) the given sub list is a subset of superlist 2) the\n",
    "given sub list is not a subset of super list"
   ]
  },
  {
   "cell_type": "code",
   "execution_count": 17,
   "id": "d5de10c2",
   "metadata": {},
   "outputs": [],
   "source": [
    "class ListChecking:\n",
    "    def __init__(self, super_list, sub_list):\n",
    "        self.super_list = super_list\n",
    "        self.sub_list = sub_list\n",
    "\n",
    "    def is_subset(self):\n",
    "        return all(item in self.super_list for item in self.sub_list)"
   ]
  },
  {
   "cell_type": "code",
   "execution_count": 21,
   "id": "6512d48a",
   "metadata": {},
   "outputs": [
    {
     "name": "stdout",
     "output_type": "stream",
     "text": [
      "The given sub list is a subset of superlist\n"
     ]
    }
   ],
   "source": [
    "##CASE 1:  The given sub list is a subset of superlist\n",
    "super_list1 = [100, 200, 300, 400, 500, 600]\n",
    "sub_list1 = [200, 100, 500]\n",
    "\n",
    "check1 = ListChecking(super_list1, sub_list1)\n",
    "\n",
    "\n",
    "if check1.is_subset():\n",
    "    print(\"The given sub list is a subset of superlist\")\n",
    "else:\n",
    "    print(\"The given sub list is NOT a subset of superlist\")"
   ]
  },
  {
   "cell_type": "code",
   "execution_count": 22,
   "id": "b1a75b7c",
   "metadata": {},
   "outputs": [
    {
     "name": "stdout",
     "output_type": "stream",
     "text": [
      "The given sub list is NOT a subset of superlist\n"
     ]
    }
   ],
   "source": [
    "##CASE 2: The given sub list is not a subset of superlist\n",
    "super_list2 = [23, 24, 25, 26, 27]\n",
    "sub_list2 = [1, 9, 28]\n",
    "\n",
    "check2 = ListChecking(super_list2, sub_list2)\n",
    "\n",
    "if check2.is_subset():\n",
    "    print(\"The given sub list is a subset of superlist\")\n",
    "else:\n",
    "    print(\"The given sub list is NOT a subset of superlist\")"
   ]
  },
  {
   "cell_type": "markdown",
   "id": "2a551854",
   "metadata": {},
   "source": [
    "#### Question 5\n",
    "\n",
    "Create a function “file-lines” that accepts an unlimited number of arguments\n",
    "having file paths as values and returns a dictionary with the argument name as the\n",
    "key and the total number of characters in the file path as value.\n",
    "\n",
    "Input should be the one as follows:\n",
    "File-lines(F1=’/mnt/data.docx’,\n",
    " F2=’/mnt/xxx.docx’,\n",
    " F3=’/mnt/file123.jpg’)\n",
    " \n",
    "Expected output:\n",
    "{F1: 16, F2:15, F3:17}"
   ]
  },
  {
   "cell_type": "code",
   "execution_count": 23,
   "id": "51fdadb6",
   "metadata": {},
   "outputs": [],
   "source": [
    "def file_lines(**file_paths):\n",
    "    result = {}\n",
    "    \n",
    "    for name, path in file_paths.items():\n",
    "        result[name] = len(path)\n",
    "    \n",
    "    return result"
   ]
  },
  {
   "cell_type": "code",
   "execution_count": 32,
   "id": "3df430d8",
   "metadata": {},
   "outputs": [
    {
     "name": "stdout",
     "output_type": "stream",
     "text": [
      "{'F1': 14, 'F2': 13, 'F3': 16}\n"
     ]
    }
   ],
   "source": [
    "#test\n",
    "file_paths_dict = file_lines(F1='/mnt/data.docx',\n",
    " F2='/mnt/xxx.docx',\n",
    " F3='/mnt/file123.jpg')\n",
    "\n",
    "print(file_paths_dict)"
   ]
  },
  {
   "cell_type": "code",
   "execution_count": null,
   "id": "a19ed6f4",
   "metadata": {},
   "outputs": [],
   "source": []
  }
 ],
 "metadata": {
  "kernelspec": {
   "display_name": "Python 3 (ipykernel)",
   "language": "python",
   "name": "python3"
  },
  "language_info": {
   "codemirror_mode": {
    "name": "ipython",
    "version": 3
   },
   "file_extension": ".py",
   "mimetype": "text/x-python",
   "name": "python",
   "nbconvert_exporter": "python",
   "pygments_lexer": "ipython3",
   "version": "3.11.5"
  }
 },
 "nbformat": 4,
 "nbformat_minor": 5
}
