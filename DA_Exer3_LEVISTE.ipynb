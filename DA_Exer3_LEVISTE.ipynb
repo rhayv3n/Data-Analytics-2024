{
 "cells": [
  {
   "cell_type": "markdown",
   "id": "9c0d4cea",
   "metadata": {},
   "source": [
    "# DATA ANALYTICS LABORATORY DS165L Laboratory Exercise #3\n",
    "#### Alliyah Rhayven A. Leviste | AM14 | \n",
    "##### September 7, 2024"
   ]
  },
  {
   "cell_type": "code",
   "execution_count": 18,
   "id": "975195b3",
   "metadata": {},
   "outputs": [],
   "source": [
    "import pandas as pd\n",
    "import numpy as np\n",
    "import matplotlib.pyplot as plt"
   ]
  },
  {
   "cell_type": "markdown",
   "id": "14bd8912",
   "metadata": {},
   "source": [
    "### Question 1\n",
    "\n",
    "Use sales-data sheet from assignment-data.xlsx and do the following tasks:\n",
    "\n",
    "The Managing Director found that there is no clarity in sales-data. He likes to see clear visualization of data in various dimensions. He instructed his junior data scientist “Mr.Bean” to reshape the data."
   ]
  },
  {
   "cell_type": "markdown",
   "id": "8a227435",
   "metadata": {},
   "source": [
    "##### Part-1:\n",
    "Mr.Bean decided to display the product details produced by every company, along with supervisor detail. [ Hint: Use Pivot Table]. The expected output is as follows and create a customize plot using matplotlib."
   ]
  },
  {
   "cell_type": "code",
   "execution_count": 81,
   "id": "037cdf5f",
   "metadata": {},
   "outputs": [],
   "source": [
    "part1 = pd.read_excel(r'C:\\Users\\Rhayven\\Downloads\\assignment-data.xlsx', \n",
    "        sheet_name='sales-data')"
   ]
  },
  {
   "cell_type": "code",
   "execution_count": 82,
   "id": "88b90e45",
   "metadata": {},
   "outputs": [
    {
     "data": {
      "text/html": [
       "<div>\n",
       "<style scoped>\n",
       "    .dataframe tbody tr th:only-of-type {\n",
       "        vertical-align: middle;\n",
       "    }\n",
       "\n",
       "    .dataframe tbody tr th {\n",
       "        vertical-align: top;\n",
       "    }\n",
       "\n",
       "    .dataframe thead th {\n",
       "        text-align: right;\n",
       "    }\n",
       "</style>\n",
       "<table border=\"1\" class=\"dataframe\">\n",
       "  <thead>\n",
       "    <tr style=\"text-align: right;\">\n",
       "      <th></th>\n",
       "      <th>Account-no</th>\n",
       "      <th>company-name</th>\n",
       "      <th>co-supervisor</th>\n",
       "      <th>supervisor</th>\n",
       "      <th>Product-detail</th>\n",
       "      <th>total-quantity</th>\n",
       "      <th>Price</th>\n",
       "      <th>Status</th>\n",
       "    </tr>\n",
       "  </thead>\n",
       "  <tbody>\n",
       "    <tr>\n",
       "      <th>0</th>\n",
       "      <td>A300</td>\n",
       "      <td>Apple</td>\n",
       "      <td>Julia</td>\n",
       "      <td>Peter Prince</td>\n",
       "      <td>search engine</td>\n",
       "      <td>2</td>\n",
       "      <td>40000</td>\n",
       "      <td>Finished</td>\n",
       "    </tr>\n",
       "    <tr>\n",
       "      <th>1</th>\n",
       "      <td>A300</td>\n",
       "      <td>Apple</td>\n",
       "      <td>Julia</td>\n",
       "      <td>Peter Prince</td>\n",
       "      <td>Software</td>\n",
       "      <td>2</td>\n",
       "      <td>20000</td>\n",
       "      <td>Finished</td>\n",
       "    </tr>\n",
       "    <tr>\n",
       "      <th>2</th>\n",
       "      <td>A300</td>\n",
       "      <td>Apple</td>\n",
       "      <td>Julia</td>\n",
       "      <td>Peter Prince</td>\n",
       "      <td>printer</td>\n",
       "      <td>3</td>\n",
       "      <td>6000</td>\n",
       "      <td>yet to finish</td>\n",
       "    </tr>\n",
       "    <tr>\n",
       "      <th>3</th>\n",
       "      <td>A301</td>\n",
       "      <td>Google</td>\n",
       "      <td>Julia</td>\n",
       "      <td>Peter Prince</td>\n",
       "      <td>search engine</td>\n",
       "      <td>2</td>\n",
       "      <td>45000</td>\n",
       "      <td>declined</td>\n",
       "    </tr>\n",
       "    <tr>\n",
       "      <th>4</th>\n",
       "      <td>A302</td>\n",
       "      <td>Facebook</td>\n",
       "      <td>Mary Lim</td>\n",
       "      <td>Peter Prince</td>\n",
       "      <td>search engine</td>\n",
       "      <td>3</td>\n",
       "      <td>54000</td>\n",
       "      <td>won</td>\n",
       "    </tr>\n",
       "  </tbody>\n",
       "</table>\n",
       "</div>"
      ],
      "text/plain": [
       "  Account-no company-name co-supervisor    supervisor Product-detail  \\\n",
       "0       A300        Apple         Julia  Peter Prince  search engine   \n",
       "1       A300        Apple         Julia  Peter Prince       Software   \n",
       "2       A300        Apple         Julia  Peter Prince        printer   \n",
       "3       A301       Google         Julia  Peter Prince  search engine   \n",
       "4       A302     Facebook      Mary Lim  Peter Prince  search engine   \n",
       "\n",
       "   total-quantity  Price         Status  \n",
       "0               2  40000       Finished  \n",
       "1               2  20000       Finished  \n",
       "2               3   6000  yet to finish  \n",
       "3               2  45000       declined  \n",
       "4               3  54000            won  "
      ]
     },
     "execution_count": 82,
     "metadata": {},
     "output_type": "execute_result"
    }
   ],
   "source": [
    "part1.head()"
   ]
  },
  {
   "cell_type": "code",
   "execution_count": 83,
   "id": "e44ad9d9",
   "metadata": {},
   "outputs": [
    {
     "data": {
      "text/plain": [
       "Account-no        object\n",
       "company-name      object\n",
       "co-supervisor     object\n",
       "supervisor        object\n",
       "Product-detail    object\n",
       "total-quantity     int64\n",
       "Price              int64\n",
       "Status            object\n",
       "dtype: object"
      ]
     },
     "execution_count": 83,
     "metadata": {},
     "output_type": "execute_result"
    }
   ],
   "source": [
    "part1.dtypes"
   ]
  },
  {
   "cell_type": "code",
   "execution_count": 87,
   "id": "db371662",
   "metadata": {},
   "outputs": [
    {
     "data": {
      "text/html": [
       "<div>\n",
       "<style scoped>\n",
       "    .dataframe tbody tr th:only-of-type {\n",
       "        vertical-align: middle;\n",
       "    }\n",
       "\n",
       "    .dataframe tbody tr th {\n",
       "        vertical-align: top;\n",
       "    }\n",
       "\n",
       "    .dataframe thead tr th {\n",
       "        text-align: left;\n",
       "    }\n",
       "\n",
       "    .dataframe thead tr:last-of-type th {\n",
       "        text-align: right;\n",
       "    }\n",
       "</style>\n",
       "<table border=\"1\" class=\"dataframe\">\n",
       "  <thead>\n",
       "    <tr>\n",
       "      <th></th>\n",
       "      <th></th>\n",
       "      <th colspan=\"4\" halign=\"left\">sum</th>\n",
       "    </tr>\n",
       "    <tr>\n",
       "      <th></th>\n",
       "      <th></th>\n",
       "      <th colspan=\"4\" halign=\"left\">Price</th>\n",
       "    </tr>\n",
       "    <tr>\n",
       "      <th></th>\n",
       "      <th>Product-detail</th>\n",
       "      <th>Monitor</th>\n",
       "      <th>Software</th>\n",
       "      <th>printer</th>\n",
       "      <th>search engine</th>\n",
       "    </tr>\n",
       "    <tr>\n",
       "      <th>supervisor</th>\n",
       "      <th>company-name</th>\n",
       "      <th></th>\n",
       "      <th></th>\n",
       "      <th></th>\n",
       "      <th></th>\n",
       "    </tr>\n",
       "  </thead>\n",
       "  <tbody>\n",
       "    <tr>\n",
       "      <th rowspan=\"6\" valign=\"top\">David Anderson</th>\n",
       "      <th>Adobe</th>\n",
       "      <td>0</td>\n",
       "      <td>0</td>\n",
       "      <td>0</td>\n",
       "      <td>23000</td>\n",
       "    </tr>\n",
       "    <tr>\n",
       "      <th>Infosys</th>\n",
       "      <td>4000</td>\n",
       "      <td>0</td>\n",
       "      <td>0</td>\n",
       "      <td>69000</td>\n",
       "    </tr>\n",
       "    <tr>\n",
       "      <th>Microsoft</th>\n",
       "      <td>0</td>\n",
       "      <td>0</td>\n",
       "      <td>5000</td>\n",
       "      <td>0</td>\n",
       "    </tr>\n",
       "    <tr>\n",
       "      <th>Oracle</th>\n",
       "      <td>0</td>\n",
       "      <td>0</td>\n",
       "      <td>0</td>\n",
       "      <td>90000</td>\n",
       "    </tr>\n",
       "    <tr>\n",
       "      <th>SAP</th>\n",
       "      <td>0</td>\n",
       "      <td>0</td>\n",
       "      <td>0</td>\n",
       "      <td>75000</td>\n",
       "    </tr>\n",
       "    <tr>\n",
       "      <th>XYZ company</th>\n",
       "      <td>0</td>\n",
       "      <td>9000</td>\n",
       "      <td>3000</td>\n",
       "      <td>0</td>\n",
       "    </tr>\n",
       "    <tr>\n",
       "      <th rowspan=\"5\" valign=\"top\">Peter Prince</th>\n",
       "      <th>ABC ltd</th>\n",
       "      <td>0</td>\n",
       "      <td>0</td>\n",
       "      <td>0</td>\n",
       "      <td>25000</td>\n",
       "    </tr>\n",
       "    <tr>\n",
       "      <th>Apple</th>\n",
       "      <td>0</td>\n",
       "      <td>20000</td>\n",
       "      <td>6000</td>\n",
       "      <td>40000</td>\n",
       "    </tr>\n",
       "    <tr>\n",
       "      <th>Facebook</th>\n",
       "      <td>0</td>\n",
       "      <td>0</td>\n",
       "      <td>0</td>\n",
       "      <td>54000</td>\n",
       "    </tr>\n",
       "    <tr>\n",
       "      <th>Google</th>\n",
       "      <td>0</td>\n",
       "      <td>0</td>\n",
       "      <td>0</td>\n",
       "      <td>45000</td>\n",
       "    </tr>\n",
       "    <tr>\n",
       "      <th>HCL</th>\n",
       "      <td>0</td>\n",
       "      <td>12000</td>\n",
       "      <td>8000</td>\n",
       "      <td>43000</td>\n",
       "    </tr>\n",
       "  </tbody>\n",
       "</table>\n",
       "</div>"
      ],
      "text/plain": [
       "                                sum                               \n",
       "                              Price                               \n",
       "Product-detail              Monitor Software printer search engine\n",
       "supervisor     company-name                                       \n",
       "David Anderson Adobe              0        0       0         23000\n",
       "               Infosys         4000        0       0         69000\n",
       "               Microsoft          0        0    5000             0\n",
       "               Oracle             0        0       0         90000\n",
       "               SAP                0        0       0         75000\n",
       "               XYZ company        0     9000    3000             0\n",
       "Peter Prince   ABC ltd            0        0       0         25000\n",
       "               Apple              0    20000    6000         40000\n",
       "               Facebook           0        0       0         54000\n",
       "               Google             0        0       0         45000\n",
       "               HCL                0    12000    8000         43000"
      ]
     },
     "execution_count": 87,
     "metadata": {},
     "output_type": "execute_result"
    }
   ],
   "source": [
    "part1.pivot_table(values=['Price'],\n",
    "index=['supervisor','company-name'],\n",
    "columns='Product-detail',\n",
    "aggfunc=[np.sum],\n",
    "fill_value=0)\n"
   ]
  },
  {
   "cell_type": "markdown",
   "id": "3525b82f",
   "metadata": {},
   "source": [
    "##### Part-2:\n",
    "Mr.Bean decided to show the top 5companies that have the most 'total-quantity' ordered. Expected output is as follows."
   ]
  },
  {
   "cell_type": "code",
   "execution_count": 40,
   "id": "89e9e0a0",
   "metadata": {},
   "outputs": [],
   "source": [
    "df2 =pd.read_excel(r'C:\\Users\\Rhayven\\Downloads\\assignment-data.xlsx', \n",
    "        sheet_name='sales-data')"
   ]
  },
  {
   "cell_type": "code",
   "execution_count": 41,
   "id": "b060f9fd",
   "metadata": {},
   "outputs": [
    {
     "data": {
      "image/png": "[encoded data removed]",
      "text/plain": [
       "<Figure size 1000x600 with 1 Axes>"
      ]
     },
     "metadata": {},
     "output_type": "display_data"
    }
   ],
   "source": [
    "df2_grouped = df2.groupby('company-name').sum().reset_index()\n",
    "\n",
    "\n",
    "df2_sorted = df2_grouped.sort_values(by='total-quantity', ascending=False).head()\n",
    "\n",
    "plt.figure(figsize=(10, 6))\n",
    "plt.bar(df2_sorted['company-name'], df2_sorted['total-quantity'], color='cornflowerblue')\n",
    "plt.xlabel('Companies')\n",
    "plt.ylabel('Price')\n",
    "plt.title('Top 5 Companies with Most Orders')\n",
    "plt.tight_layout()\n",
    "plt.show()"
   ]
  },
  {
   "cell_type": "markdown",
   "id": "bf0aada4",
   "metadata": {},
   "source": [
    "##### Part-3:\n",
    "Further, “Mr.Bean” has created a scatterplot showing total-quantity vs Price for 3 companies; Apple, HCL and Infosys. Expected output is as follows."
   ]
  },
  {
   "cell_type": "code",
   "execution_count": 79,
   "id": "b7f4da2e",
   "metadata": {},
   "outputs": [],
   "source": [
    "df = pd.read_excel(r'C:\\Users\\Rhayven\\Downloads\\assignment-data.xlsx', \n",
    "        sheet_name='sales-data')"
   ]
  },
  {
   "cell_type": "code",
   "execution_count": 80,
   "id": "b1c6356d",
   "metadata": {},
   "outputs": [
    {
     "data": {
      "image/png": "[encoded data removed]",
      "text/plain": [
       "<Figure size 1800x600 with 3 Axes>"
      ]
     },
     "metadata": {},
     "output_type": "display_data"
    }
   ],
   "source": [
    "apple_data = df[df['company-name'] == 'Apple']\n",
    "hcl_data = df[df['company-name'] == 'HCL']\n",
    "infosys_data = df[df['company-name'] == 'Infosys']\n",
    "\n",
    "# SUBPLOT\n",
    "fig, axs = plt.subplots(1, 3, figsize=(18, 6), sharey=True)\n",
    "\n",
    "#APPLE\n",
    "x_apple = apple_data['total-quantity']\n",
    "y_apple = apple_data['Price']\n",
    "axs[0].scatter(x_apple, y_apple, alpha=0.7, edgecolors='w', s=100, color='cornflowerblue')\n",
    "axs[0].set_title('Apple')\n",
    "axs[0].set_xlabel('Total Quantity')\n",
    "axs[0].set_ylabel('Price')\n",
    "\n",
    "\n",
    "#HCL\n",
    "x_hcl = hcl_data['total-quantity']\n",
    "y_hcl = hcl_data['Price']\n",
    "axs[1].scatter(x_hcl, y_hcl, alpha=0.7, edgecolors='w', s=100, color='cornflowerblue')\n",
    "axs[1].set_title('HCL')\n",
    "axs[1].set_xlabel('Total Quantity')\n",
    "\n",
    "\n",
    "#INFOSYS\n",
    "x_infosys = infosys_data['total-quantity']\n",
    "y_infosys = infosys_data['Price']\n",
    "axs[2].scatter(x_infosys, y_infosys, alpha=0.7, edgecolors='w', s=100, color='cornflowerblue')\n",
    "axs[2].set_title('Infosys')\n",
    "axs[2].set_xlabel('Total Quantity')\n",
    "\n",
    "for ax in axs:\n",
    "    ax.grid(False)\n",
    "plt.tight_layout()\n",
    "plt.show()\n"
   ]
  },
  {
   "cell_type": "code",
   "execution_count": null,
   "id": "3c3f44dd",
   "metadata": {},
   "outputs": [],
   "source": []
  }
 ],
 "metadata": {
  "kernelspec": {
   "display_name": "Python 3 (ipykernel)",
   "language": "python",
   "name": "python3"
  },
  "language_info": {
   "codemirror_mode": {
    "name": "ipython",
    "version": 3
   },
   "file_extension": ".py",
   "mimetype": "text/x-python",
   "name": "python",
   "nbconvert_exporter": "python",
   "pygments_lexer": "ipython3",
   "version": "3.11.5"
  }
 },
 "nbformat": 4,
 "nbformat_minor": 5
}
