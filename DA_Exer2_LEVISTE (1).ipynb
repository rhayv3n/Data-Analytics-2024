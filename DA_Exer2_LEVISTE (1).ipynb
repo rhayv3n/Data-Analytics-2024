{
 "cells": [
  {
   "cell_type": "markdown",
   "id": "4dcd5bd6",
   "metadata": {},
   "source": [
    "# DATA ANALYTICS DS165L Laboratory Exercise #2\n",
    "\n",
    "### Alliyah Rhayven A. Leviste | AM14 |"
   ]
  },
  {
   "cell_type": "code",
   "execution_count": 2,
   "id": "0d2a4645",
   "metadata": {},
   "outputs": [],
   "source": [
    "import pandas as pd\n",
    "import numpy as np"
   ]
  },
  {
   "cell_type": "markdown",
   "id": "ac8ab32e",
   "metadata": {},
   "source": [
    "## Question 1\n",
    "\n",
    "Create the following data frame using suitable commands such as np.arange, list etc"
   ]
  },
  {
   "cell_type": "code",
   "execution_count": 45,
   "id": "da62e5e8",
   "metadata": {},
   "outputs": [
    {
     "data": {
      "text/html": [
       "<div>\n",
       "<style scoped>\n",
       "    .dataframe tbody tr th:only-of-type {\n",
       "        vertical-align: middle;\n",
       "    }\n",
       "\n",
       "    .dataframe tbody tr th {\n",
       "        vertical-align: top;\n",
       "    }\n",
       "\n",
       "    .dataframe thead th {\n",
       "        text-align: right;\n",
       "    }\n",
       "</style>\n",
       "<table border=\"1\" class=\"dataframe\">\n",
       "  <thead>\n",
       "    <tr style=\"text-align: right;\">\n",
       "      <th></th>\n",
       "      <th>column_a</th>\n",
       "      <th>column_b</th>\n",
       "      <th>column_c</th>\n",
       "      <th>column_d</th>\n",
       "      <th>column_e</th>\n",
       "      <th>column_f</th>\n",
       "      <th>column_g</th>\n",
       "      <th>column_h</th>\n",
       "      <th>column_i</th>\n",
       "    </tr>\n",
       "  </thead>\n",
       "  <tbody>\n",
       "    <tr>\n",
       "      <th>0</th>\n",
       "      <td>a</td>\n",
       "      <td>20</td>\n",
       "      <td>31</td>\n",
       "      <td>41</td>\n",
       "      <td>5.1</td>\n",
       "      <td>aa</td>\n",
       "      <td>2002-02-23 00:00:00.00000002</td>\n",
       "      <td>2002-02-23 00:00:00.00000023</td>\n",
       "      <td>True</td>\n",
       "    </tr>\n",
       "    <tr>\n",
       "      <th>1</th>\n",
       "      <td>b</td>\n",
       "      <td>21</td>\n",
       "      <td>32</td>\n",
       "      <td>42</td>\n",
       "      <td>5.2</td>\n",
       "      <td>bb</td>\n",
       "      <td>2003-09-01 00:00:00.00000001</td>\n",
       "      <td>2003-09-01 00:00:00.00000009</td>\n",
       "      <td>True</td>\n",
       "    </tr>\n",
       "    <tr>\n",
       "      <th>2</th>\n",
       "      <td>c</td>\n",
       "      <td>22</td>\n",
       "      <td>33</td>\n",
       "      <td>43</td>\n",
       "      <td>5.3</td>\n",
       "      <td>cc</td>\n",
       "      <td>2024-01-05 00:00:00.00000001</td>\n",
       "      <td>2024-01-05 00:00:00.00000005</td>\n",
       "      <td>True</td>\n",
       "    </tr>\n",
       "    <tr>\n",
       "      <th>3</th>\n",
       "      <td>d</td>\n",
       "      <td>23</td>\n",
       "      <td>34</td>\n",
       "      <td>44</td>\n",
       "      <td>5.4</td>\n",
       "      <td>dd</td>\n",
       "      <td>2024-08-31 00:00:00.00000008</td>\n",
       "      <td>2024-08-31 00:00:00.00000031</td>\n",
       "      <td>True</td>\n",
       "    </tr>\n",
       "  </tbody>\n",
       "</table>\n",
       "</div>"
      ],
      "text/plain": [
       "  column_a column_b column_c column_d column_e column_f  \\\n",
       "0        a       20       31       41      5.1       aa   \n",
       "1        b       21       32       42      5.2       bb   \n",
       "2        c       22       33       43      5.3       cc   \n",
       "3        d       23       34       44      5.4       dd   \n",
       "\n",
       "                       column_g                      column_h column_i  \n",
       "0  2002-02-23 00:00:00.00000002  2002-02-23 00:00:00.00000023     True  \n",
       "1  2003-09-01 00:00:00.00000001  2003-09-01 00:00:00.00000009     True  \n",
       "2  2024-01-05 00:00:00.00000001  2024-01-05 00:00:00.00000005     True  \n",
       "3  2024-08-31 00:00:00.00000008  2024-08-31 00:00:00.00000031     True  "
      ]
     },
     "execution_count": 45,
     "metadata": {},
     "output_type": "execute_result"
    }
   ],
   "source": [
    "\n",
    "df = pd.DataFrame({\n",
    "    \"column_a\": np.array([\"a\", \"b\", \"c\", \"d\"]),\n",
    "    \"column_b\": np.array([\"20\", \"21\", \"22\", \"23\"]),\n",
    "    \"column_c\": np.array([\"31\", \"32\", \"33\", \"34\"]),\n",
    "    \"column_d\": np.array([\"41\", \"42\", \"43\", \"44\"]),\n",
    "    \"column_e\": np.array([\"5.1\", \"5.2\", \"5.3\", \"5.4\"]),\n",
    "    \"column_f\": np.array([\"aa\", \"bb\", \"cc\", \"dd\"]),\n",
    "    \"column_g\": np.array([\"2002-02-23 00:00:00.00000002\", \"2003-09-01 00:00:00.00000001\", \"2024-01-05 00:00:00.00000001\", \"2024-08-31 00:00:00.00000008\"]),\n",
    "    \"column_h\": np.array([\"2002-02-23 00:00:00.00000023\", \"2003-09-01 00:00:00.00000009\", \"2024-01-05 00:00:00.00000005\", \"2024-08-31 00:00:00.00000031\"]),\n",
    "    \"column_i\": np.array([\"True\", \"True\", \"True\", \"True\"])\n",
    "})\n",
    "\n",
    "df"
   ]
  },
  {
   "cell_type": "markdown",
   "id": "73ba9927",
   "metadata": {},
   "source": [
    "## Question 2\n",
    "Data for this question can be found from \"tweets\" sheet in assignment-data.xlsx. “ABC Company” has collected “tweets” from tweet.com and instructed its junior data scientist “Mr. Jo Jo” to mask sensitive data so that they can use the masked data for testing."
   ]
  },
  {
   "cell_type": "markdown",
   "id": "a2bee464",
   "metadata": {},
   "source": [
    "#### Task 1\n",
    "\n",
    "Mr.Jo Jo likes to do his experiment on small amount of data thus decided to play with only 10 rows. Read only the rows 3-12 from tweets sheet and name it as \"df\" and display the type of df. The output should be shown as follows:\n"
   ]
  },
  {
   "cell_type": "code",
   "execution_count": 3,
   "id": "ac7e2dea",
   "metadata": {},
   "outputs": [],
   "source": [
    "df = pd.read_excel(r'C:\\Users\\Rhayven\\Downloads\\assignment-data.xlsx',\n",
    "     sheet_name='tweets',\n",
    "     skiprows=2,\n",
    "     nrows=11,\n",
    "     header=0)"
   ]
  },
  {
   "cell_type": "code",
   "execution_count": 7,
   "id": "87ad8436",
   "metadata": {},
   "outputs": [
    {
     "name": "stdout",
     "output_type": "stream",
     "text": [
      "<class 'pandas.core.frame.DataFrame'>\n"
     ]
    }
   ],
   "source": [
    "df.columns = ['tweet id', 'created_at', 'tweet', 'retweet', 'username']\n",
    "print(type(df))"
   ]
  },
  {
   "cell_type": "code",
   "execution_count": 8,
   "id": "030afba4",
   "metadata": {},
   "outputs": [
    {
     "data": {
      "text/html": [
       "<div>\n",
       "<style scoped>\n",
       "    .dataframe tbody tr th:only-of-type {\n",
       "        vertical-align: middle;\n",
       "    }\n",
       "\n",
       "    .dataframe tbody tr th {\n",
       "        vertical-align: top;\n",
       "    }\n",
       "\n",
       "    .dataframe thead th {\n",
       "        text-align: right;\n",
       "    }\n",
       "</style>\n",
       "<table border=\"1\" class=\"dataframe\">\n",
       "  <thead>\n",
       "    <tr style=\"text-align: right;\">\n",
       "      <th></th>\n",
       "      <th>tweet id</th>\n",
       "      <th>created_at</th>\n",
       "      <th>tweet</th>\n",
       "      <th>retweet</th>\n",
       "      <th>username</th>\n",
       "    </tr>\n",
       "  </thead>\n",
       "  <tbody>\n",
       "    <tr>\n",
       "      <th>0</th>\n",
       "      <td>832516558903730176</td>\n",
       "      <td>2017-02-17 09:06:29</td>\n",
       "      <td>@comark yes check the flux capacitor in our lo...</td>\n",
       "      <td>0</td>\n",
       "      <td>88mph_Africa</td>\n",
       "    </tr>\n",
       "    <tr>\n",
       "      <th>1</th>\n",
       "      <td>832293187670704128</td>\n",
       "      <td>2017-02-16 18:18:53</td>\n",
       "      <td>RT @iafrikan: .@88mph_Africa stopped running i...</td>\n",
       "      <td>1</td>\n",
       "      <td>88mph_Africa</td>\n",
       "    </tr>\n",
       "    <tr>\n",
       "      <th>2</th>\n",
       "      <td>831880802489217024</td>\n",
       "      <td>2017-02-15 15:00:13</td>\n",
       "      <td>88mph invest in Ahoy - a business travel app f...</td>\n",
       "      <td>1</td>\n",
       "      <td>88mph_Africa</td>\n",
       "    </tr>\n",
       "    <tr>\n",
       "      <th>3</th>\n",
       "      <td>946063916068634631</td>\n",
       "      <td>2017-12-27 17:03:09</td>\n",
       "      <td>Ce samedi 30 décembre 2017 à @ActivSpaces, se ...</td>\n",
       "      <td>4</td>\n",
       "      <td>ActiveSpaces</td>\n",
       "    </tr>\n",
       "    <tr>\n",
       "      <th>4</th>\n",
       "      <td>945973955847999488</td>\n",
       "      <td>2017-12-27 11:05:41</td>\n",
       "      <td>RT @OIFfrancophonie: Retour en vidéo sur la vi...</td>\n",
       "      <td>27</td>\n",
       "      <td>ActiveSpaces</td>\n",
       "    </tr>\n",
       "    <tr>\n",
       "      <th>5</th>\n",
       "      <td>945972004548726785</td>\n",
       "      <td>2017-12-27 10:57:55</td>\n",
       "      <td>RT @OIFfrancophonie: L’OIF a organisé un ateli...</td>\n",
       "      <td>13</td>\n",
       "      <td>ActiveSpaces</td>\n",
       "    </tr>\n",
       "    <tr>\n",
       "      <th>6</th>\n",
       "      <td>945606558930690048</td>\n",
       "      <td>2017-12-26 10:45:46</td>\n",
       "      <td>Plus que deux jours et les inscriptions seront...</td>\n",
       "      <td>5</td>\n",
       "      <td>ActiveSpaces</td>\n",
       "    </tr>\n",
       "    <tr>\n",
       "      <th>7</th>\n",
       "      <td>945595453256687616</td>\n",
       "      <td>2017-12-26 10:01:39</td>\n",
       "      <td>RT @nlend_nyounai: Transform your idea into a ...</td>\n",
       "      <td>1</td>\n",
       "      <td>ActiveSpaces</td>\n",
       "    </tr>\n",
       "    <tr>\n",
       "      <th>8</th>\n",
       "      <td>945595401729724416</td>\n",
       "      <td>2017-12-26 10:01:26</td>\n",
       "      <td>RT @ElongWilliam: Si tu as une idée et tu es u...</td>\n",
       "      <td>6</td>\n",
       "      <td>ActiveSpaces</td>\n",
       "    </tr>\n",
       "    <tr>\n",
       "      <th>9</th>\n",
       "      <td>944304498461347840</td>\n",
       "      <td>2017-12-22 20:31:51</td>\n",
       "      <td>RT @chantaledie: AWESOME https://t.co/pTu3k5LA81</td>\n",
       "      <td>2</td>\n",
       "      <td>ActiveSpaces</td>\n",
       "    </tr>\n",
       "    <tr>\n",
       "      <th>10</th>\n",
       "      <td>944257477062914048</td>\n",
       "      <td>2017-12-22 17:25:00</td>\n",
       "      <td>A la SENUM 2017, Aurélie Adam Soulé Zoumarou p...</td>\n",
       "      <td>1</td>\n",
       "      <td>ActiveSpaces</td>\n",
       "    </tr>\n",
       "  </tbody>\n",
       "</table>\n",
       "</div>"
      ],
      "text/plain": [
       "              tweet id           created_at  \\\n",
       "0   832516558903730176  2017-02-17 09:06:29   \n",
       "1   832293187670704128  2017-02-16 18:18:53   \n",
       "2   831880802489217024  2017-02-15 15:00:13   \n",
       "3   946063916068634631  2017-12-27 17:03:09   \n",
       "4   945973955847999488  2017-12-27 11:05:41   \n",
       "5   945972004548726785  2017-12-27 10:57:55   \n",
       "6   945606558930690048  2017-12-26 10:45:46   \n",
       "7   945595453256687616  2017-12-26 10:01:39   \n",
       "8   945595401729724416  2017-12-26 10:01:26   \n",
       "9   944304498461347840  2017-12-22 20:31:51   \n",
       "10  944257477062914048  2017-12-22 17:25:00   \n",
       "\n",
       "                                                tweet  retweet      username  \n",
       "0   @comark yes check the flux capacitor in our lo...        0  88mph_Africa  \n",
       "1   RT @iafrikan: .@88mph_Africa stopped running i...        1  88mph_Africa  \n",
       "2   88mph invest in Ahoy - a business travel app f...        1  88mph_Africa  \n",
       "3   Ce samedi 30 décembre 2017 à @ActivSpaces, se ...        4  ActiveSpaces  \n",
       "4   RT @OIFfrancophonie: Retour en vidéo sur la vi...       27  ActiveSpaces  \n",
       "5   RT @OIFfrancophonie: L’OIF a organisé un ateli...       13  ActiveSpaces  \n",
       "6   Plus que deux jours et les inscriptions seront...        5  ActiveSpaces  \n",
       "7   RT @nlend_nyounai: Transform your idea into a ...        1  ActiveSpaces  \n",
       "8   RT @ElongWilliam: Si tu as une idée et tu es u...        6  ActiveSpaces  \n",
       "9    RT @chantaledie: AWESOME https://t.co/pTu3k5LA81        2  ActiveSpaces  \n",
       "10  A la SENUM 2017, Aurélie Adam Soulé Zoumarou p...        1  ActiveSpaces  "
      ]
     },
     "execution_count": 8,
     "metadata": {},
     "output_type": "execute_result"
    }
   ],
   "source": [
    "df"
   ]
  },
  {
   "cell_type": "markdown",
   "id": "baba49a1",
   "metadata": {},
   "source": [
    "#### Task 2\n",
    "\n",
    "Mr.Jo Jo found that “tweetid, created-at and username” columns are sensitive thus decided to mask the values from those columns. He created new columns “newtweet-id”,”created-at4” to store the masked “tweet-ids” and masked “created-at” values. He decided to use “username” column to store masked usernames. Now, analyze the following output figure to do essential mask operations."
   ]
  },
  {
   "cell_type": "code",
   "execution_count": 3,
   "id": "421585df",
   "metadata": {},
   "outputs": [
    {
     "data": {
      "text/html": [
       "<div>\n",
       "<style scoped>\n",
       "    .dataframe tbody tr th:only-of-type {\n",
       "        vertical-align: middle;\n",
       "    }\n",
       "\n",
       "    .dataframe tbody tr th {\n",
       "        vertical-align: top;\n",
       "    }\n",
       "\n",
       "    .dataframe thead th {\n",
       "        text-align: right;\n",
       "    }\n",
       "</style>\n",
       "<table border=\"1\" class=\"dataframe\">\n",
       "  <thead>\n",
       "    <tr style=\"text-align: right;\">\n",
       "      <th></th>\n",
       "      <th>new_tweet_id</th>\n",
       "      <th>created_at4</th>\n",
       "      <th>tweet</th>\n",
       "      <th>retweets</th>\n",
       "      <th>username</th>\n",
       "    </tr>\n",
       "  </thead>\n",
       "  <tbody>\n",
       "    <tr>\n",
       "      <th>0</th>\n",
       "      <td>833615769179144194</td>\n",
       "      <td>2017-02-20 09:54:21</td>\n",
       "      <td>Real time not cached results . https://t.co/ju...</td>\n",
       "      <td>0</td>\n",
       "      <td>yyy</td>\n",
       "    </tr>\n",
       "    <tr>\n",
       "      <th>1</th>\n",
       "      <td>833615060425703424</td>\n",
       "      <td>2017-02-20 09:51:32</td>\n",
       "      <td>how last minute can you be when buying a fligh...</td>\n",
       "      <td>0</td>\n",
       "      <td>yyy</td>\n",
       "    </tr>\n",
       "    <tr>\n",
       "      <th>2</th>\n",
       "      <td>832516558903730176</td>\n",
       "      <td>2017-02-17 09:06:29</td>\n",
       "      <td>@comark yes check the flux capacitor in our lo...</td>\n",
       "      <td>0</td>\n",
       "      <td>yyy</td>\n",
       "    </tr>\n",
       "    <tr>\n",
       "      <th>3</th>\n",
       "      <td>832293187670704128</td>\n",
       "      <td>2017-02-16 18:18:53</td>\n",
       "      <td>RT @iafrikan: .@88mph_Africa stopped running i...</td>\n",
       "      <td>1</td>\n",
       "      <td>yyy</td>\n",
       "    </tr>\n",
       "    <tr>\n",
       "      <th>4</th>\n",
       "      <td>831880802489217024</td>\n",
       "      <td>2017-02-15 15:00:13</td>\n",
       "      <td>88mph invest in Ahoy - a business travel app f...</td>\n",
       "      <td>1</td>\n",
       "      <td>yyy</td>\n",
       "    </tr>\n",
       "    <tr>\n",
       "      <th>5</th>\n",
       "      <td>946063916068634631</td>\n",
       "      <td>2017-12-27 17:03:09</td>\n",
       "      <td>Ce samedi 30 décembre 2017 à @ActivSpaces, se ...</td>\n",
       "      <td>4</td>\n",
       "      <td>yyy</td>\n",
       "    </tr>\n",
       "    <tr>\n",
       "      <th>6</th>\n",
       "      <td>945973955847999488</td>\n",
       "      <td>2017-12-27 11:05:41</td>\n",
       "      <td>RT @OIFfrancophonie: Retour en vidéo sur la vi...</td>\n",
       "      <td>27</td>\n",
       "      <td>yyy</td>\n",
       "    </tr>\n",
       "    <tr>\n",
       "      <th>7</th>\n",
       "      <td>945972004548726785</td>\n",
       "      <td>2017-12-27 10:57:55</td>\n",
       "      <td>RT @OIFfrancophonie: L’OIF a organisé un ateli...</td>\n",
       "      <td>13</td>\n",
       "      <td>yyy</td>\n",
       "    </tr>\n",
       "    <tr>\n",
       "      <th>8</th>\n",
       "      <td>945606558930690048</td>\n",
       "      <td>2017-12-26 10:45:46</td>\n",
       "      <td>Plus que deux jours et les inscriptions seront...</td>\n",
       "      <td>5</td>\n",
       "      <td>yyy</td>\n",
       "    </tr>\n",
       "    <tr>\n",
       "      <th>9</th>\n",
       "      <td>945595453256687616</td>\n",
       "      <td>2017-12-26 10:01:39</td>\n",
       "      <td>RT @nlend_nyounai: Transform your idea into a ...</td>\n",
       "      <td>1</td>\n",
       "      <td>yyy</td>\n",
       "    </tr>\n",
       "  </tbody>\n",
       "</table>\n",
       "</div>"
      ],
      "text/plain": [
       "         new_tweet_id          created_at4  \\\n",
       "0  833615769179144194  2017-02-20 09:54:21   \n",
       "1  833615060425703424  2017-02-20 09:51:32   \n",
       "2  832516558903730176  2017-02-17 09:06:29   \n",
       "3  832293187670704128  2017-02-16 18:18:53   \n",
       "4  831880802489217024  2017-02-15 15:00:13   \n",
       "5  946063916068634631  2017-12-27 17:03:09   \n",
       "6  945973955847999488  2017-12-27 11:05:41   \n",
       "7  945972004548726785  2017-12-27 10:57:55   \n",
       "8  945606558930690048  2017-12-26 10:45:46   \n",
       "9  945595453256687616  2017-12-26 10:01:39   \n",
       "\n",
       "                                              tweet   retweets username  \n",
       "0  Real time not cached results . https://t.co/ju...         0      yyy  \n",
       "1  how last minute can you be when buying a fligh...         0      yyy  \n",
       "2  @comark yes check the flux capacitor in our lo...         0      yyy  \n",
       "3  RT @iafrikan: .@88mph_Africa stopped running i...         1      yyy  \n",
       "4  88mph invest in Ahoy - a business travel app f...         1      yyy  \n",
       "5  Ce samedi 30 décembre 2017 à @ActivSpaces, se ...         4      yyy  \n",
       "6  RT @OIFfrancophonie: Retour en vidéo sur la vi...        27      yyy  \n",
       "7  RT @OIFfrancophonie: L’OIF a organisé un ateli...        13      yyy  \n",
       "8  Plus que deux jours et les inscriptions seront...         5      yyy  \n",
       "9  RT @nlend_nyounai: Transform your idea into a ...         1      yyy  "
      ]
     },
     "execution_count": 3,
     "metadata": {},
     "output_type": "execute_result"
    }
   ],
   "source": [
    "df9 = pd.read_excel(r'C:\\Users\\Rhayven\\Downloads\\assignment-data.xlsx',\n",
    "     sheet_name='tweets')\n",
    "\n",
    "df9.rename(columns={'tweet_id':'new_tweet_id'},inplace=True)\n",
    "\n",
    "df9.rename(columns={'created_at':'created_at4'},inplace=True)\n",
    "\n",
    "df9['username'] = 'yyy'\n",
    "\n",
    "df9.iloc[0:10]"
   ]
  },
  {
   "cell_type": "markdown",
   "id": "0a330404",
   "metadata": {},
   "source": [
    "## Question 3\n",
    "Data for this question can be found in \"online-retail\" sheet from assignmentdata.xlsx. Since it is a big data, load first 200 rows and keep it in the data frame called \"dataset\". This “dataset” is used for all tasks in this question. \n",
    "\n",
    "Assume that you are a data scientist in Amazon. Since the company is celebrating Silver Jubilee this year, it has decided to reward their customers. Your Manager handed over last 2 years retail data and asked you to do certain tasks. The tasks are as follows:\n"
   ]
  },
  {
   "cell_type": "markdown",
   "id": "42c41632",
   "metadata": {},
   "source": [
    "#### Task 1\n",
    "\n",
    "When you started working with data, you’ve realized that it needs cleaning to produce better results. Do essential data cleaning. The final output should be the one as follows:"
   ]
  },
  {
   "cell_type": "code",
   "execution_count": 60,
   "id": "ec993e67",
   "metadata": {},
   "outputs": [],
   "source": [
    "df3 = pd.read_excel(r'C:\\Users\\Rhayven\\Downloads\\assignment-data.xlsx', \n",
    "                        sheet_name='online-retail', \n",
    "                        nrows=200)"
   ]
  },
  {
   "cell_type": "code",
   "execution_count": 62,
   "id": "2a7eef04",
   "metadata": {},
   "outputs": [],
   "source": [
    "numerical= df3.select_dtypes(include=['number'])"
   ]
  },
  {
   "cell_type": "code",
   "execution_count": 68,
   "id": "29d91d6d",
   "metadata": {},
   "outputs": [
    {
     "name": "stdout",
     "output_type": "stream",
     "text": [
      "BEFORE CLEANING: Any negatives? True\n"
     ]
    }
   ],
   "source": [
    "bcleaned = (numerical < 0).any().any()\n",
    "print(\"BEFORE CLEANING: Any negatives?\", bcleaned)"
   ]
  },
  {
   "cell_type": "code",
   "execution_count": 65,
   "id": "f3985d06",
   "metadata": {},
   "outputs": [],
   "source": [
    "df3_clean = df3[~(numerical < 0).any(axis=1)]"
   ]
  },
  {
   "cell_type": "code",
   "execution_count": 66,
   "id": "72e7b66e",
   "metadata": {},
   "outputs": [],
   "source": [
    "numerical_cc = df3_clean.select_dtypes(include=['number'])"
   ]
  },
  {
   "cell_type": "code",
   "execution_count": 67,
   "id": "40d6c40f",
   "metadata": {},
   "outputs": [
    {
     "name": "stdout",
     "output_type": "stream",
     "text": [
      "AFTER CLEANING: any negatives? False\n"
     ]
    }
   ],
   "source": [
    "aclean = (numerical_cc <0).any().any()\n",
    "print(\"AFTER CLEANING: any negatives?\", aclean)"
   ]
  },
  {
   "cell_type": "markdown",
   "id": "df15aca5",
   "metadata": {},
   "source": [
    "#### Task 2\n",
    "Amazon wants to reward the customer who has done the most number of transactions, by providing a gift hamper worth 1000 pesos. Find out the customer who has done the most number of transactions [Note: One invoice number corresponds to one transaction]. The output should the one as below:\n",
    "\n",
    "Hurray! The most number of transactions is done by Customer ID: __ . He has made __ transactions. He will be rewarded with our gift hamper worth 1000 Pesos."
   ]
  },
  {
   "cell_type": "code",
   "execution_count": 77,
   "id": "35150cf4",
   "metadata": {},
   "outputs": [],
   "source": [
    "df4 = pd.read_excel(r'C:\\Users\\Rhayven\\Downloads\\assignment-data.xlsx', \n",
    "                    sheet_name='online-retail', \n",
    "                    nrows=200)\n",
    "\n",
    "transaction = df4.groupby('CustomerID')['InvoiceNo'].nunique()"
   ]
  },
  {
   "cell_type": "code",
   "execution_count": 72,
   "id": "3eac3e2d",
   "metadata": {},
   "outputs": [],
   "source": [
    "most_transcust = transaction.idxmax()\n",
    "most_transcount = transaction.max()"
   ]
  },
  {
   "cell_type": "code",
   "execution_count": 73,
   "id": "19e56fca",
   "metadata": {},
   "outputs": [
    {
     "name": "stdout",
     "output_type": "stream",
     "text": [
      "Hurray! The most number of transactions is done by Customer ID: 17850. He has made 6 transactions. He will be rewarded with our gift hamper worth 1000 Pesos.\n"
     ]
    }
   ],
   "source": [
    "print(f\"Hurray! The most number of transactions is done by Customer ID: {most_transcust}. He has made {most_transcount} transactions. He will be rewarded with our gift hamper worth 1000 Pesos.\")\n"
   ]
  },
  {
   "cell_type": "markdown",
   "id": "623f7ab4",
   "metadata": {},
   "source": [
    "#### Task 3\n",
    "Amazon wants to find the best customer and likes to reward 50% discount on his next purchase. Find the Customer with the highest amount of total purchase amount. The output should the one as below:\n",
    "\n",
    "Customer ID: ___ is the best customer since he has spent a lot on our business. His total purchase amount is 3702.12 pesos. 50% discount will be given on his next purchase."
   ]
  },
  {
   "cell_type": "code",
   "execution_count": 120,
   "id": "c663dff9",
   "metadata": {},
   "outputs": [],
   "source": [
    "df5 = pd.read_excel(r'C:\\Users\\Rhayven\\Downloads\\assignment-data.xlsx', \n",
    "                   sheet_name='online-retail', \n",
    "                   nrows=200)"
   ]
  },
  {
   "cell_type": "code",
   "execution_count": 24,
   "id": "c8d29b5d",
   "metadata": {},
   "outputs": [
    {
     "name": "stdout",
     "output_type": "stream",
     "text": [
      "Index(['InvoiceNo', 'StockCode', 'Description', 'Quantity', 'InvoiceDate',\n",
      "       'UnitPrice', 'CustomerID', 'Country'],\n",
      "      dtype='object')\n"
     ]
    }
   ],
   "source": [
    "print(df5.columns)"
   ]
  },
  {
   "cell_type": "code",
   "execution_count": 25,
   "id": "371f820e",
   "metadata": {},
   "outputs": [
    {
     "name": "stdout",
     "output_type": "stream",
     "text": [
      "<class 'pandas.core.series.Series'>\n"
     ]
    }
   ],
   "source": [
    "df5['TotalAmount'] = df5['Quantity'] * df5['UnitPrice']\n",
    "\n",
    "custotals=df5.groupby('CustomerID')['TotalAmount'].sum()\n",
    "\n",
    "print(type(custotals))"
   ]
  },
  {
   "cell_type": "code",
   "execution_count": 27,
   "id": "89ecae6f",
   "metadata": {},
   "outputs": [
    {
     "name": "stdout",
     "output_type": "stream",
     "text": [
      "Customer ID: {bestcustid} is the best customer since he has spent a lot on our business. His total purchase amount is 3702.12 pesos. 50% discount will be given on his next purchase.\n"
     ]
    }
   ],
   "source": [
    "bestcustid = custotals.idxmax()\n",
    "bestcustotals = custotals.max()\n",
    "\n",
    "out = (\"Customer ID: {bestcustid} is the best customer since he has spent a lot on our business. \"\n",
    "          f\"His total purchase amount is {bestcustotals:.2f} pesos. \"\n",
    "          \"50% discount will be given on his next purchase.\")\n",
    "\n",
    "print(out)"
   ]
  },
  {
   "cell_type": "markdown",
   "id": "969bbd46",
   "metadata": {},
   "source": [
    "#### Task 4\n",
    "Amazon wants to find out the most and the least bought items. It likes to increase the sale of least bought item by bundling it with the most bought item and ready to give special 10% discount for this bundle. The output should be the one as below.\n",
    "\n",
    "Most bought item is StockCode __ with __ purchased quantity\n",
    "Least bought item is StockCode __ with __ in purchased quantity.\n",
    "These two items can be bundled and provide 10% discount on this bundle to increase the count of StockCode __.\n"
   ]
  },
  {
   "cell_type": "code",
   "execution_count": 38,
   "id": "f10a57a8",
   "metadata": {},
   "outputs": [],
   "source": [
    "df6 = pd.read_excel(r'C:\\Users\\Rhayven\\Downloads\\assignment-data.xlsx', \n",
    "                    sheet_name='online-retail', \n",
    "                    nrows=200)"
   ]
  },
  {
   "cell_type": "code",
   "execution_count": 39,
   "id": "de6d41e2",
   "metadata": {},
   "outputs": [
    {
     "name": "stdout",
     "output_type": "stream",
     "text": [
      "InvoiceNo              object\n",
      "StockCode              object\n",
      "Description            object\n",
      "Quantity                int64\n",
      "InvoiceDate    datetime64[ns]\n",
      "UnitPrice             float64\n",
      "CustomerID              int64\n",
      "Country                object\n",
      "dtype: object\n"
     ]
    }
   ],
   "source": [
    "print(df6.dtypes)"
   ]
  },
  {
   "cell_type": "code",
   "execution_count": 44,
   "id": "5deb500c",
   "metadata": {},
   "outputs": [],
   "source": [
    "df6['Quantity'] = pd.to_numeric(df6['Quantity'], errors='coerce')\n",
    "df6 = df6[df6['Quantity'] >= 0]"
   ]
  },
  {
   "cell_type": "code",
   "execution_count": 46,
   "id": "23d580ef",
   "metadata": {},
   "outputs": [
    {
     "name": "stdout",
     "output_type": "stream",
     "text": [
      "Most Bought Item: 21731\n",
      "Most Bought Quantity: 458\n",
      "Least Bought Item: 21166\n",
      "Least Bought Quantity: 1\n"
     ]
    }
   ],
   "source": [
    "totalitems = df6.groupby('StockCode')['Quantity'].sum()\n",
    "\n",
    "mostitems = totalitems.idxmax()\n",
    "mostquantity = totalitems.max()\n",
    "\n",
    "leastitems = totalitems.idxmin()\n",
    "leastquantity = totalitems.min()\n",
    "\n",
    "print(\"Most Bought Item:\", mostitems)\n",
    "print(\"Most Bought Quantity:\", mostquantity)\n",
    "print(\"Least Bought Item:\", leastitems)\n",
    "print(\"Least Bought Quantity:\", leastquantity)"
   ]
  },
  {
   "cell_type": "code",
   "execution_count": 47,
   "id": "df2ca0c4",
   "metadata": {},
   "outputs": [
    {
     "name": "stdout",
     "output_type": "stream",
     "text": [
      "Most bought item is StockCode 21731 with 458 purchased quantity. Least bought item is StockCode 21166 with 1 in purchased quantity. These two items can be bundled and provide 10% discount on this bundle to increase the count of StockCode 21166.\n"
     ]
    }
   ],
   "source": [
    "out = (f\"Most bought item is StockCode {mostitems} with {mostquantity} purchased quantity. \"\n",
    "          f\"Least bought item is StockCode {leastitems} with {leastquantity} in purchased quantity. \"\n",
    "          f\"These two items can be bundled and provide 10% discount on this bundle to increase the count of StockCode {leastitems}.\")\n",
    "\n",
    "print(out)"
   ]
  },
  {
   "cell_type": "markdown",
   "id": "f0e4f45a",
   "metadata": {},
   "source": [
    "#### Task 5\n",
    "Company likes to find out overall average purchase-amount among all transactions\n",
    "[ one transaction indicates one invoice number]. The expected output is as follows:\n",
    "\n",
    "Average purchase amount among all transactions = __"
   ]
  },
  {
   "cell_type": "code",
   "execution_count": 109,
   "id": "87a69bf3",
   "metadata": {},
   "outputs": [],
   "source": [
    "df8 = pd.read_excel(r'C:\\Users\\Rhayven\\Downloads\\assignment-data.xlsx', \n",
    "                    sheet_name='online-retail', \n",
    "                    nrows=200)"
   ]
  },
  {
   "cell_type": "code",
   "execution_count": 119,
   "id": "72d8ac5a",
   "metadata": {},
   "outputs": [
    {
     "name": "stdout",
     "output_type": "stream",
     "text": [
      "Average purchase amount among all transactions = 44.07\n"
     ]
    }
   ],
   "source": [
    "totaltransaction = df8['TotalPurchaseAmount'].sum()\n",
    "averageamount = df8['TotalPurchaseAmount'].mean()\n",
    "\n",
    "print(f\"Average purchase amount among all transactions = {averageamount:.2f}\")"
   ]
  },
  {
   "cell_type": "markdown",
   "id": "523bac4d",
   "metadata": {},
   "source": [
    "#### Task 6\n",
    "\n",
    "Company also likes to find out the total purchase amount and the number of transactions made by each customer in their lifetime. Create new data frame called \"new-dataset\", containing the columns ['CustomerID', 'TotalPurchaseAmount', 'NumberofTransactions']. Display the last 10 rows. \n",
    "Expected output is as follows:"
   ]
  },
  {
   "cell_type": "code",
   "execution_count": 56,
   "id": "d14dd0f2",
   "metadata": {},
   "outputs": [],
   "source": [
    "df7 = pd.read_excel(r'C:\\Users\\Rhayven\\Downloads\\assignment-data.xlsx', \n",
    "                   sheet_name='online-retail', \n",
    "                   nrows=200)"
   ]
  },
  {
   "cell_type": "code",
   "execution_count": 75,
   "id": "1c50c382",
   "metadata": {},
   "outputs": [],
   "source": [
    "new_dataset = df.groupby('CustomerID').agg(\n",
    "    Total_Purchase_Amount=('TotalPurchaseAmount', 'sum'),\n",
    "    Number_of_Transactions=('InvoiceNo', 'count')\n",
    ").reset_index()"
   ]
  },
  {
   "cell_type": "code",
   "execution_count": 76,
   "id": "c518d61a",
   "metadata": {},
   "outputs": [
    {
     "data": {
      "text/html": [
       "<div>\n",
       "<style scoped>\n",
       "    .dataframe tbody tr th:only-of-type {\n",
       "        vertical-align: middle;\n",
       "    }\n",
       "\n",
       "    .dataframe tbody tr th {\n",
       "        vertical-align: top;\n",
       "    }\n",
       "\n",
       "    .dataframe thead th {\n",
       "        text-align: right;\n",
       "    }\n",
       "</style>\n",
       "<table border=\"1\" class=\"dataframe\">\n",
       "  <thead>\n",
       "    <tr style=\"text-align: right;\">\n",
       "      <th></th>\n",
       "      <th>CustomerID</th>\n",
       "      <th>Total_Purchase_Amount</th>\n",
       "      <th>Number_of_Transactions</th>\n",
       "    </tr>\n",
       "  </thead>\n",
       "  <tbody>\n",
       "    <tr>\n",
       "      <th>6</th>\n",
       "      <td>15100</td>\n",
       "      <td>350.40</td>\n",
       "      <td>1</td>\n",
       "    </tr>\n",
       "    <tr>\n",
       "      <th>7</th>\n",
       "      <td>15291</td>\n",
       "      <td>328.80</td>\n",
       "      <td>2</td>\n",
       "    </tr>\n",
       "    <tr>\n",
       "      <th>8</th>\n",
       "      <td>15311</td>\n",
       "      <td>445.33</td>\n",
       "      <td>36</td>\n",
       "    </tr>\n",
       "    <tr>\n",
       "      <th>9</th>\n",
       "      <td>16029</td>\n",
       "      <td>3702.12</td>\n",
       "      <td>8</td>\n",
       "    </tr>\n",
       "    <tr>\n",
       "      <th>10</th>\n",
       "      <td>16098</td>\n",
       "      <td>430.60</td>\n",
       "      <td>12</td>\n",
       "    </tr>\n",
       "    <tr>\n",
       "      <th>11</th>\n",
       "      <td>16250</td>\n",
       "      <td>226.14</td>\n",
       "      <td>14</td>\n",
       "    </tr>\n",
       "    <tr>\n",
       "      <th>12</th>\n",
       "      <td>17420</td>\n",
       "      <td>130.85</td>\n",
       "      <td>7</td>\n",
       "    </tr>\n",
       "    <tr>\n",
       "      <th>13</th>\n",
       "      <td>17809</td>\n",
       "      <td>34.80</td>\n",
       "      <td>1</td>\n",
       "    </tr>\n",
       "    <tr>\n",
       "      <th>14</th>\n",
       "      <td>17850</td>\n",
       "      <td>725.44</td>\n",
       "      <td>45</td>\n",
       "    </tr>\n",
       "    <tr>\n",
       "      <th>15</th>\n",
       "      <td>18074</td>\n",
       "      <td>489.60</td>\n",
       "      <td>13</td>\n",
       "    </tr>\n",
       "  </tbody>\n",
       "</table>\n",
       "</div>"
      ],
      "text/plain": [
       "    CustomerID  Total_Purchase_Amount  Number_of_Transactions\n",
       "6        15100                 350.40                       1\n",
       "7        15291                 328.80                       2\n",
       "8        15311                 445.33                      36\n",
       "9        16029                3702.12                       8\n",
       "10       16098                 430.60                      12\n",
       "11       16250                 226.14                      14\n",
       "12       17420                 130.85                       7\n",
       "13       17809                  34.80                       1\n",
       "14       17850                 725.44                      45\n",
       "15       18074                 489.60                      13"
      ]
     },
     "execution_count": 76,
     "metadata": {},
     "output_type": "execute_result"
    }
   ],
   "source": [
    "new_dataset.tail(10)"
   ]
  },
  {
   "cell_type": "markdown",
   "id": "9f369943",
   "metadata": {},
   "source": [
    "#### Task 7\n",
    "Company also likes to know average purchase amount made by every customer to \n",
    "get an idea of how much they’ve spent with their business in average. Append a column \"AveragePurchase\" in the new-dataset. Get the average total  purchase per CustomerID. Display first 5 results. Expected output is as follows."
   ]
  },
  {
   "cell_type": "code",
   "execution_count": 103,
   "id": "1cc1fdd2",
   "metadata": {},
   "outputs": [],
   "source": [
    "new_dataset['AveragePurchase'] = new_dataset['Total_Purchase_Amount'] / new_dataset['Number_of_Transactions']\n"
   ]
  },
  {
   "cell_type": "code",
   "execution_count": 80,
   "id": "927e5923",
   "metadata": {},
   "outputs": [
    {
     "data": {
      "text/html": [
       "<div>\n",
       "<style scoped>\n",
       "    .dataframe tbody tr th:only-of-type {\n",
       "        vertical-align: middle;\n",
       "    }\n",
       "\n",
       "    .dataframe tbody tr th {\n",
       "        vertical-align: top;\n",
       "    }\n",
       "\n",
       "    .dataframe thead th {\n",
       "        text-align: right;\n",
       "    }\n",
       "</style>\n",
       "<table border=\"1\" class=\"dataframe\">\n",
       "  <thead>\n",
       "    <tr style=\"text-align: right;\">\n",
       "      <th></th>\n",
       "      <th>CustomerID</th>\n",
       "      <th>Total_Purchase_Amount</th>\n",
       "      <th>Number_of_Transactions</th>\n",
       "      <th>AveragePurchase</th>\n",
       "    </tr>\n",
       "  </thead>\n",
       "  <tbody>\n",
       "    <tr>\n",
       "      <th>0</th>\n",
       "      <td>12431</td>\n",
       "      <td>105.60</td>\n",
       "      <td>3</td>\n",
       "      <td>35.200000</td>\n",
       "    </tr>\n",
       "    <tr>\n",
       "      <th>1</th>\n",
       "      <td>12583</td>\n",
       "      <td>855.86</td>\n",
       "      <td>20</td>\n",
       "      <td>42.793000</td>\n",
       "    </tr>\n",
       "    <tr>\n",
       "      <th>2</th>\n",
       "      <td>13047</td>\n",
       "      <td>366.63</td>\n",
       "      <td>17</td>\n",
       "      <td>21.566471</td>\n",
       "    </tr>\n",
       "    <tr>\n",
       "      <th>3</th>\n",
       "      <td>13748</td>\n",
       "      <td>204.00</td>\n",
       "      <td>1</td>\n",
       "      <td>204.000000</td>\n",
       "    </tr>\n",
       "    <tr>\n",
       "      <th>4</th>\n",
       "      <td>14527</td>\n",
       "      <td>-27.50</td>\n",
       "      <td>1</td>\n",
       "      <td>-27.500000</td>\n",
       "    </tr>\n",
       "  </tbody>\n",
       "</table>\n",
       "</div>"
      ],
      "text/plain": [
       "   CustomerID  Total_Purchase_Amount  Number_of_Transactions  AveragePurchase\n",
       "0       12431                 105.60                       3        35.200000\n",
       "1       12583                 855.86                      20        42.793000\n",
       "2       13047                 366.63                      17        21.566471\n",
       "3       13748                 204.00                       1       204.000000\n",
       "4       14527                 -27.50                       1       -27.500000"
      ]
     },
     "execution_count": 80,
     "metadata": {},
     "output_type": "execute_result"
    }
   ],
   "source": [
    "(new_dataset.head(5))"
   ]
  },
  {
   "cell_type": "code",
   "execution_count": null,
   "id": "861e9b5f",
   "metadata": {},
   "outputs": [],
   "source": []
  }
 ],
 "metadata": {
  "kernelspec": {
   "display_name": "Python 3 (ipykernel)",
   "language": "python",
   "name": "python3"
  },
  "language_info": {
   "codemirror_mode": {
    "name": "ipython",
    "version": 3
   },
   "file_extension": ".py",
   "mimetype": "text/x-python",
   "name": "python",
   "nbconvert_exporter": "python",
   "pygments_lexer": "ipython3",
   "version": "3.11.5"
  }
 },
 "nbformat": 4,
 "nbformat_minor": 5
}
